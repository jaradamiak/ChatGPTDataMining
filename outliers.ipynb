{
 "cells": [
  {
   "cell_type": "markdown",
   "metadata": {},
   "source": [
    "# Outliers elimination"
   ]
  },
  {
   "cell_type": "markdown",
   "metadata": {},
   "source": [
    "Prompt: Provide a code to recognize and eliminate outliers"
   ]
  },
  {
   "cell_type": "markdown",
   "metadata": {},
   "source": [
    "Outliers can distort predictions and affect the accuracy, especially for algorithms like linear regression which are sensitive to outliers. One common technique to identify and eliminate outliers is by using the Interquartile Range (IQR).\n",
    "\n",
    "Here's a step-by-step guide on recognizing and eliminating outliers using the IQR method:\n",
    "\n",
    "1. Calculate the first (Q1) and third (Q3) quartiles.\n",
    "2. Compute the Interquartile Range: IQR=Q3−Q1\n",
    "3. Identify outliers:\n",
    "- Below Q1−1.5×IQR\n",
    "- Above Q3+1.5×IQR\n",
    "\n",
    "Here's how you can do it with Python using the pandas library:"
   ]
  },
  {
   "cell_type": "code",
   "execution_count": null,
   "metadata": {},
   "outputs": [],
   "source": [
    "import pandas as pd\n",
    "\n",
    "# Read the dataset\n",
    "df = pd.read_csv('your_dataset.csv')  # replace 'your_dataset.csv' with your actual dataset name\n",
    "\n",
    "# Loop through each column in the dataframe (this assumes you want to check all columns for outliers)\n",
    "for col in df.columns:\n",
    "    if df[col].dtype in ['float64', 'int64']:  # this ensures we're only processing numeric columns\n",
    "        Q1 = df[col].quantile(0.25)\n",
    "        Q3 = df[col].quantile(0.75)\n",
    "        IQR = Q3 - Q1\n",
    "        \n",
    "        # Define bounds for the outliers\n",
    "        lower_bound = Q1 - 1.5 * IQR\n",
    "        upper_bound = Q3 + 1.5 * IQR\n",
    "        \n",
    "        # Filter the data to remove outliers\n",
    "        df = df[(df[col] >= lower_bound) & (df[col] <= upper_bound)]\n",
    "\n",
    "# Save the cleaned data\n",
    "df.to_csv('data_without_outliers.csv', index=False)\n",
    "\n",
    "print(\"Outliers removed and data saved to 'data_without_outliers.csv'.\")"
   ]
  },
  {
   "cell_type": "markdown",
   "metadata": {},
   "source": [
    "After running this script, the cleaned dataset (with outliers removed) will be saved as data_without_outliers.csv.\n",
    "\n",
    "Remember, eliminating outliers may result in data loss, so it's crucial to understand the business implications and consult domain experts when necessary. Sometimes, the outliers might carry valuable information. It's essential to understand the context of the data and the reasons for any outliers before deciding to remove them."
   ]
  },
  {
   "cell_type": "markdown",
   "metadata": {},
   "source": []
  }
 ],
 "metadata": {
  "language_info": {
   "name": "python"
  },
  "orig_nbformat": 4
 },
 "nbformat": 4,
 "nbformat_minor": 2
}
