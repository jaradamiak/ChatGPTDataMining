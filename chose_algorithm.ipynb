{
 "cells": [
  {
   "cell_type": "markdown",
   "metadata": {},
   "source": [
    "# Divide dataset into training and testing sets"
   ]
  },
  {
   "cell_type": "markdown",
   "metadata": {},
   "source": [
    "Prompt: Divide the preprocessed data trainCSET.csv into training and testing sets"
   ]
  },
  {
   "cell_type": "markdown",
   "metadata": {},
   "source": [
    "To divide the preprocessed data trainCSET.csv into training and testing sets, you can use the train_test_split function from the scikit-learn library. Here's a simple example to demonstrate how you can accomplish this:\n",
    "\n",
    "First, you need to ensure you have pandas and scikit-learn installed:"
   ]
  },
  {
   "cell_type": "markdown",
   "metadata": {},
   "source": [
    "pip install pandas scikit-learn"
   ]
  },
  {
   "cell_type": "markdown",
   "metadata": {},
   "source": [
    "Next, you can use the following code to split the dataset:"
   ]
  },
  {
   "cell_type": "code",
   "execution_count": null,
   "metadata": {
    "vscode": {
     "languageId": "plaintext"
    }
   },
   "outputs": [],
   "source": [
    "import pandas as pd\n",
    "from sklearn.model_selection import train_test_split\n",
    "\n",
    "# Load the preprocessed dataset\n",
    "df = pd.read_csv('trainCSET.csv')\n",
    "\n",
    "# Divide the dataset into features and target (assuming 'target' is the name of your target column)\n",
    "X = df.drop('target', axis=1)  # Assuming 'target' is the name of the column you're predicting\n",
    "y = df['target']\n",
    "\n",
    "# Split the data into training (80%) and testing (20%) sets\n",
    "X_train, X_test, y_train, y_test = train_test_split(X, y, test_size=0.2, random_state=42)\n",
    "\n",
    "# Save the training and testing sets to separate CSV files\n",
    "X_train.to_csv('X_train.csv', index=False)\n",
    "y_train.to_csv('y_train.csv', index=False)\n",
    "X_test.to_csv('X_test.csv', index=False)\n",
    "y_test.to_csv('y_test.csv', index=False)\n",
    "\n",
    "print(\"Data divided into training and testing sets and saved to respective CSV files.\")"
   ]
  },
  {
   "cell_type": "markdown",
   "metadata": {},
   "source": [
    "Adjust the column name 'target' if your dataset has a different target column name. The above script splits the dataset into 80% training and 20% testing by default, but you can adjust the test_size parameter if needed.\n",
    "\n",
    "The random state is set to 42 for reproducibility, meaning if you run the code multiple times, you'll get the same split every time. You can change this number or remove the parameter if you want different splits each time."
   ]
  },
  {
   "cell_type": "code",
   "execution_count": null,
   "metadata": {
    "vscode": {
     "languageId": "plaintext"
    }
   },
   "outputs": [],
   "source": []
  }
 ],
 "metadata": {
  "language_info": {
   "name": "python"
  },
  "orig_nbformat": 4
 },
 "nbformat": 4,
 "nbformat_minor": 2
}
