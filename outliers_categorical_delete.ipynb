{
 "cells": [
  {
   "cell_type": "markdown",
   "metadata": {},
   "source": [
    "# Categorical outliers with deletion"
   ]
  },
  {
   "cell_type": "markdown",
   "metadata": {},
   "source": [
    "Prompt: Provide a code to recognize and eliminate outliers in categorical data. Provide code for eliminate the rows with outliers in categorical data."
   ]
  },
  {
   "cell_type": "markdown",
   "metadata": {},
   "source": [
    "If you want to eliminate rows containing outliers in categorical data, follow these steps:\n",
    "\n",
    "- Identify categories in a column that are infrequent. These might be considered as outliers based on specific criteria.\n",
    "- Remove rows containing these infrequent categories.\n",
    "\n",
    "Here's a code example using Python and the pandas library:"
   ]
  },
  {
   "cell_type": "code",
   "execution_count": null,
   "metadata": {
    "vscode": {
     "languageId": "plaintext"
    }
   },
   "outputs": [],
   "source": [
    "import pandas as pd\n",
    "\n",
    "# Threshold for detecting rare categories\n",
    "threshold = 0.01  # for example, categories that appear less than 1% of the time\n",
    "\n",
    "# Read the dataset\n",
    "df = pd.read_csv('your_dataset.csv')  # replace 'your_dataset.csv' with your actual dataset name\n",
    "\n",
    "# Define a list to collect rows to be removed\n",
    "rows_to_remove = []\n",
    "\n",
    "# Loop through each categorical column in the dataframe\n",
    "for col in df.select_dtypes(include=['object']).columns:  # this ensures we're only processing categorical columns\n",
    "    frequencies = df[col].value_counts(normalize=True)\n",
    "    \n",
    "    # Find rare categories that are below the threshold\n",
    "    rare_categories = frequencies[frequencies < threshold].index\n",
    "    \n",
    "    # Collect rows with rare categories\n",
    "    rows_to_remove.extend(df[df[col].isin(rare_categories)].index)\n",
    "\n",
    "# Drop rows with rare categories\n",
    "df.drop(index=rows_to_remove, inplace=True)\n",
    "\n",
    "# Save the cleaned data\n",
    "df.to_csv('data_without_categorical_outliers.csv', index=False)\n",
    "\n",
    "print(\"Rows with categorical outliers removed and data saved to 'data_without_categorical_outliers.csv'.\")"
   ]
  },
  {
   "cell_type": "markdown",
   "metadata": {},
   "source": [
    "After running this script, the dataset without rows containing categorical outliers will be saved as data_without_categorical_outliers.csv.\n",
    "\n",
    "Keep in mind that this approach might result in significant data loss, especially if multiple columns have infrequent categories. Adjust the threshold as required and ensure you understand the business or domain implications of removing these rows."
   ]
  }
 ],
 "metadata": {
  "language_info": {
   "name": "python"
  },
  "orig_nbformat": 4
 },
 "nbformat": 4,
 "nbformat_minor": 2
}
