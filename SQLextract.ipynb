{
 "cells": [
  {
   "cell_type": "markdown",
   "metadata": {},
   "source": [
    "# Extracting data from SQLServer database"
   ]
  },
  {
   "cell_type": "markdown",
   "metadata": {},
   "source": [
    "Prompt: Write SQL statement for extracting demographic data from SQLServer database and saving it in csv file."
   ]
  },
  {
   "cell_type": "markdown",
   "metadata": {},
   "source": [
    "Answer:"
   ]
  },
  {
   "cell_type": "markdown",
   "metadata": {},
   "source": [
    "SQL Server does not have a built-in command to directly export a result set to a CSV file. \n",
    "However, you can use a combination of SQL Server and Python to perform this task. \n",
    "Python's pyodbc and pandas libraries can be used to connect to a SQL Server database, execute SQL queries, \n",
    "and save the results to a CSV file.\n",
    "\n",
    "Here is an example:"
   ]
  },
  {
   "cell_type": "code",
   "execution_count": null,
   "metadata": {},
   "outputs": [],
   "source": [
    "import pandas as pd\n",
    "import pyodbc\n",
    "\n",
    "# Connection parameters\n",
    "server = 'your_server_name'\n",
    "database = 'your_database_name'\n",
    "username = 'your_username'\n",
    "password = 'your_password'\n",
    "\n",
    "# Connection string\n",
    "conn = pyodbc.connect('DRIVER={ODBC Driver 17 for SQL Server};SERVER=' + server + \n",
    "                      ';DATABASE=' + database + ';UID=' + username + ';PWD=' + password)\n",
    "\n",
    "# SQL query\n",
    "sql_query = \"\"\"\n",
    "SELECT \n",
    "    student_id,\n",
    "    age,\n",
    "    gender,\n",
    "    ethnicity,\n",
    "    nationality,\n",
    "    socioeconomic_status,\n",
    "    first_generation_college_student,\n",
    "    residential_status,\n",
    "    geographic_location,\n",
    "    disability_status,\n",
    "    marital_status,\n",
    "    employment_status\n",
    "FROM \n",
    "    students\n",
    "\"\"\"\n",
    "\n",
    "# Use pandas to run the SQL query and save the result as a DataFrame\n",
    "df = pd.read_sql(sql_query, conn)\n",
    "\n",
    "# Save the DataFrame to a CSV file\n",
    "df.to_csv('demographic_data.csv', index=False)\n",
    "\n",
    "# Close the database connection\n",
    "conn.close()"
   ]
  },
  {
   "cell_type": "markdown",
   "metadata": {},
   "source": [
    "In this script, replace the 'your_server_name', 'your_database_name', 'your_username', and 'your_password' with your actual SQL Server details. Replace 'demographic_data.csv' with the path where you want to save the CSV file.\n",
    "\n",
    "Please note that you will need the pyodbc and pandas libraries installed in your Python environment to run this script. If you haven't installed them already, you can do so using pip:"
   ]
  },
  {
   "cell_type": "code",
   "execution_count": null,
   "metadata": {},
   "outputs": [],
   "source": [
    "pip install pyodbc pandas"
   ]
  },
  {
   "cell_type": "markdown",
   "metadata": {},
   "source": []
  }
 ],
 "metadata": {
  "kernelspec": {
   "display_name": "venv",
   "language": "python",
   "name": "python3"
  },
  "language_info": {
   "codemirror_mode": {
    "name": "ipython",
    "version": 3
   },
   "file_extension": ".py",
   "mimetype": "text/x-python",
   "name": "python",
   "nbconvert_exporter": "python",
   "pygments_lexer": "ipython3",
   "version": "3.9.9"
  },
  "orig_nbformat": 4
 },
 "nbformat": 4,
 "nbformat_minor": 2
}
