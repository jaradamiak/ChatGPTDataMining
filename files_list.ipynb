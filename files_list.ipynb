{
 "cells": [
  {
   "cell_type": "markdown",
   "metadata": {},
   "source": [
    "This file contains the list of the code snippets grouped into themes."
   ]
  },
  {
   "cell_type": "markdown",
   "metadata": {},
   "source": [
    "### 1. Scaffolding"
   ]
  },
  {
   "cell_type": "markdown",
   "metadata": {},
   "source": [
    "scaffold.ipynb"
   ]
  },
  {
   "cell_type": "markdown",
   "metadata": {},
   "source": [
    "### 2. Reading data"
   ]
  },
  {
   "cell_type": "markdown",
   "metadata": {},
   "source": [
    "SQLextract.ipynb - provides a template for extracting the data fro SQLserver, otherwise unfunctional\n",
    "SQLextract2.ipynb - crashes bacause of obsolete libraries (1 Hallucination)\n",
    "read.ipynb - required code amendmend to read South African csv correctly (1 Hallucination)"
   ]
  },
  {
   "cell_type": "markdown",
   "metadata": {},
   "source": [
    "### 3. Handling missing values"
   ]
  },
  {
   "cell_type": "markdown",
   "metadata": {},
   "source": [
    "missing.ipynb - the missing Class value becomes 0.5 - ChatGPT didn't see it as an integer (1 Hallucination)"
   ]
  },
  {
   "cell_type": "markdown",
   "metadata": {},
   "source": [
    "### 4. Handling duplicates"
   ]
  },
  {
   "cell_type": "markdown",
   "metadata": {},
   "source": [
    "duplicates.ipynb\n",
    "\n",
    "duplicates_removal.ipynb"
   ]
  },
  {
   "cell_type": "markdown",
   "metadata": {},
   "source": [
    "### 5. Handling outliers"
   ]
  },
  {
   "cell_type": "markdown",
   "metadata": {},
   "source": [
    "outliers.ipynb - recognized only numerical outliers (1 Hallucination)\n",
    "\n",
    "outliers_categorical.ipynb - recognized categorical outliers, but did not delete them (1 Hallucination)\n",
    "\n",
    "outliers_categorical_delete.ipynb"
   ]
  },
  {
   "cell_type": "markdown",
   "metadata": {},
   "source": [
    "### 6. Data normalization"
   ]
  },
  {
   "cell_type": "markdown",
   "metadata": {},
   "source": [
    "### 7. Encoding categorical data\n",
    "encode_data.ipynb - provided general solution. Stipulated further steps.\n",
    "\n",
    "encode_data_label.ipynb - required sep=\";\" when reading the file\n",
    "\n",
    "encode_data_onehot.ipynb"
   ]
  },
  {
   "cell_type": "code",
   "execution_count": null,
   "metadata": {
    "vscode": {
     "languageId": "plaintext"
    }
   },
   "outputs": [],
   "source": []
  },
  {
   "cell_type": "code",
   "execution_count": null,
   "metadata": {
    "vscode": {
     "languageId": "plaintext"
    }
   },
   "outputs": [],
   "source": []
  },
  {
   "cell_type": "code",
   "execution_count": null,
   "metadata": {
    "vscode": {
     "languageId": "plaintext"
    }
   },
   "outputs": [],
   "source": []
  },
  {
   "cell_type": "markdown",
   "metadata": {},
   "source": [
    "### 8. Feature selection"
   ]
  },
  {
   "cell_type": "markdown",
   "metadata": {},
   "source": []
  },
  {
   "cell_type": "markdown",
   "metadata": {},
   "source": [
    "### 9. Training"
   ]
  },
  {
   "cell_type": "markdown",
   "metadata": {},
   "source": [
    "training_testing.ipynb"
   ]
  },
  {
   "cell_type": "markdown",
   "metadata": {},
   "source": []
  },
  {
   "cell_type": "markdown",
   "metadata": {},
   "source": [
    "Data files:\n",
    "train.csv - an example of a typical dataset contaning demographics data, categorized academic data and the retention/attrition indicator \n",
    "train_missing.csv - train dataset with some values removed\n",
    "train_cleaned.csv - dataset train_missing.csv amended by missingipynb script\n",
    "train_duplicates.csv - train dataset with five duplicates created\n",
    "train_cleaned.csv - train dataset with duplicates removed\n"
   ]
  }
 ],
 "metadata": {
  "language_info": {
   "name": "python"
  }
 },
 "nbformat": 4,
 "nbformat_minor": 2
}
