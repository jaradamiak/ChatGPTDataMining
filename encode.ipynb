{
 "cells": [
  {
   "cell_type": "markdown",
   "metadata": {},
   "source": [
    "# Encoding data"
   ]
  },
  {
   "cell_type": "markdown",
   "metadata": {},
   "source": [
    "Prompt: Write a code to encode data in the dataset callsed trainCSET.csv\n",
    "\n"
   ]
  },
  {
   "cell_type": "markdown",
   "metadata": {},
   "source": [
    "To encode data in a dataset, you can use several approaches depending on the type of data you're encoding. For categorical data, common techniques include Label Encoding and One-Hot Encoding. Here's an example of how to apply both techniques using the pandas and sklearn libraries in Python:"
   ]
  },
  {
   "cell_type": "code",
   "execution_count": 2,
   "metadata": {},
   "outputs": [
    {
     "name": "stdout",
     "output_type": "stream",
     "text": [
      "Data encoded and saved to 'train_encoded.csv'.\n"
     ]
    }
   ],
   "source": [
    "import pandas as pd\n",
    "from sklearn.preprocessing import LabelEncoder, OneHotEncoder\n",
    "\n",
    "# Load the dataset\n",
    "df = pd.read_csv('train.csv', sep=\";\")\n",
    "\n",
    "# Assuming 'Category' is the column you want to encode\n",
    "# Replace 'Category' with the actual column name you want to encode\n",
    "\n",
    "# Label Encoding\n",
    "label_encoder = LabelEncoder()\n",
    "df['Gender_LabelEncoded'] = label_encoder.fit_transform(df['Gender'])\n",
    "\n",
    "# One-Hot Encoding\n",
    "# pandas.get_dummies() is an easy way to one-hot encode categorical variables\n",
    "# df_encoded = pd.get_dummies(df, columns=['Category'], prefix='Category')\n",
    "\n",
    "# Save the encoded DataFrame to a new CSV file\n",
    "df.to_csv('train_encoded.csv', index=False)\n",
    "\n",
    "print(\"Data encoded and saved to 'train_encoded.csv'.\")\n"
   ]
  },
  {
   "cell_type": "markdown",
   "metadata": {},
   "source": [
    "Before running this script, make sure to replace 'Category' with the actual column name you want to encode.\n",
    "\n",
    "Label Encoding is appropriate for ordinal data where the categories have an inherent order.\n",
    "One-Hot Encoding is used for nominal data where no such order exists.\n",
    "The resulting df_encoded DataFrame will contain new columns for each category with binary values (0 or 1) indicating the presence of each categorical value per row. This is typically used as input for machine learning models that require numerical input.\n",
    "\n",
    "Save the script to a .py file and run it in the same directory as your train.csv file, or adjust the file path in the pd.read_csv function accordingly. After running the script, you will have a new CSV file called train_encoded.csv with the encoded data."
   ]
  },
  {
   "cell_type": "markdown",
   "metadata": {},
   "source": []
  }
 ],
 "metadata": {
  "kernelspec": {
   "display_name": "Python 3",
   "language": "python",
   "name": "python3"
  },
  "language_info": {
   "codemirror_mode": {
    "name": "ipython",
    "version": 3
   },
   "file_extension": ".py",
   "mimetype": "text/x-python",
   "name": "python",
   "nbconvert_exporter": "python",
   "pygments_lexer": "ipython3",
   "version": "3.9.9"
  }
 },
 "nbformat": 4,
 "nbformat_minor": 2
}
