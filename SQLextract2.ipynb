{
 "cells": [
  {
   "cell_type": "markdown",
   "metadata": {},
   "source": [
    "# Extracting data from SQLServer database when database parameters are known"
   ]
  },
  {
   "cell_type": "markdown",
   "metadata": {},
   "source": [
    "Prompt: Write SQL statement for extracting demographic data from SQLServer database and saving it in csv file. Use Windows Authentication, my database is called EarlyAlert, my Server Name is LT-A221634, my table is called Demographics."
   ]
  },
  {
   "cell_type": "markdown",
   "metadata": {},
   "source": [
    "Answer:"
   ]
  },
  {
   "cell_type": "markdown",
   "metadata": {},
   "source": [
    "To extract demographic data from your SQL Server database named EarlyAlert and save it in a CSV file using Python with Windows Authentication, you can follow these steps. The example will use Python's pyodbc and pandas libraries.\n",
    "\n",
    "Install the Necessary Libraries:\n",
    "If you haven't already installed pandas and pyodbc, you can do so using pip:"
   ]
  },
  {
   "cell_type": "markdown",
   "metadata": {},
   "source": [
    "pip install pandas pyodbc"
   ]
  },
  {
   "cell_type": "markdown",
   "metadata": {},
   "source": [
    "Python Script:"
   ]
  },
  {
   "cell_type": "code",
   "execution_count": null,
   "metadata": {},
   "outputs": [],
   "source": [
    "import pandas as pd\n",
    "import pyodbc\n",
    "\n",
    "# Define the connection parameters\n",
    "server = 'LT-A221634'  # Your server name\n",
    "database = 'EarlyAlert'  # Your database name\n",
    "driver = 'ODBC Driver 17 for SQL Server'  # Adjust the driver as per your SQL Server setup\n",
    "\n",
    "# Establish a connection using Windows Authentication\n",
    "conn = pyodbc.connect(f'DRIVER={driver};SERVER={server};DATABASE={database};Trusted_Connection=yes;')\n",
    "\n",
    "# SQL query to select data from the Demographics table\n",
    "sql_query = 'SELECT * FROM Demographics'  # Adjust the query as needed\n",
    "\n",
    "# Execute the query and save the result to a DataFrame\n",
    "df = pd.read_sql(sql_query, conn)\n",
    "\n",
    "# Save the DataFrame to a CSV file\n",
    "df.to_csv('demographic_data.csv', index=False)\n",
    "\n",
    "# Close the database connection\n",
    "conn.close()\n",
    "\n",
    "print(\"Data extracted and saved to 'demographic_data.csv'\")"
   ]
  },
  {
   "cell_type": "markdown",
   "metadata": {},
   "source": [
    "Replace 'Demographics' in the sql_query string with your actual table name if different. This script connects to your EarlyAlert database on the LT-A221634 server using Windows Authentication, executes the query to retrieve data from the Demographics table, and saves the result in a CSV file named demographic_data.csv.\n",
    "\n",
    "Run the Script:\n",
    "Execute this script in your Python environment. Ensure that your machine has access to the SQL Server and that the necessary permissions are set up for your Windows user account."
   ]
  },
  {
   "cell_type": "markdown",
   "metadata": {},
   "source": []
  }
 ],
 "metadata": {
  "kernelspec": {
   "display_name": "venv",
   "language": "python",
   "name": "python3"
  },
  "language_info": {
   "name": "python",
   "version": "3.9.9"
  },
  "orig_nbformat": 4
 },
 "nbformat": 4,
 "nbformat_minor": 2
}
