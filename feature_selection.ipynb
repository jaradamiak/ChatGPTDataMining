{
 "cells": [
  {
   "cell_type": "markdown",
   "metadata": {},
   "source": [
    "# Feature selection"
   ]
  },
  {
   "cell_type": "markdown",
   "metadata": {},
   "source": [
    "Prompt: Write a code to remove the Student_Number column, and then  perform feature selection on trainCSET.csv dataset."
   ]
  },
  {
   "cell_type": "markdown",
   "metadata": {},
   "source": [
    "To perform feature selection on trainCSET.csv dataset after removing the Student_Number column, you can use the following approach:\n",
    "\n",
    "Read the dataset and drop the Student_Number column.\n",
    "Prepare the data by separating features from the target variable. This example assumes that the target variable is the last column in the dataset.\n",
    "Perform feature selection using a method suitable for your dataset. For illustration, I will use the SelectKBest method with the f_classif score function, which is suitable for classification tasks. If your task is regression, you might want to use f_regression."
   ]
  },
  {
   "cell_type": "code",
   "execution_count": 2,
   "metadata": {},
   "outputs": [
    {
     "name": "stdout",
     "output_type": "stream",
     "text": [
      "Feature selection complete. The selected features are:\n",
      "Index(['Matric_Status_Code_DEGR', 'Matric_Status_Code_NVTN', 'Race_African',\n",
      "       'Gender_F', 'Gender_M'],\n",
      "      dtype='object')\n"
     ]
    }
   ],
   "source": [
    "import pandas as pd\n",
    "from sklearn.feature_selection import SelectKBest, f_classif\n",
    "\n",
    "# Load the dataset\n",
    "df = pd.read_csv('trainCSET.csv', sep=\";\")\n",
    "\n",
    "# Remove the Student_Number column\n",
    "df = df.drop('Student_Number', axis=1)\n",
    "\n",
    "# Assume the target variable is the last column\n",
    "X = df.iloc[:, :-1]  # All columns except the last one\n",
    "y = df.iloc[:, -1]   # The last column\n",
    "\n",
    "# Perform one-hot encoding on categorical variables if necessary\n",
    "X = pd.get_dummies(X)\n",
    "\n",
    "# Define the feature selection method and number of top features to select\n",
    "k = 5  # Choose a suitable value for k\n",
    "selector = SelectKBest(score_func=f_classif, k=k)\n",
    "\n",
    "# Fit the selector to the data\n",
    "X_new = selector.fit_transform(X, y)\n",
    "\n",
    "# Get the selected feature names\n",
    "selected_features = X.columns[selector.get_support(indices=True)]\n",
    "\n",
    "# Create a new DataFrame with the selected features\n",
    "df_selected = pd.DataFrame(X_new, columns=selected_features)\n",
    "\n",
    "# Save the DataFrame with selected features to a new CSV file\n",
    "df_selected.to_csv('trainCSET_selected_features.csv', index=False)\n",
    "\n",
    "print(\"Feature selection complete. The selected features are:\")\n",
    "print(selected_features)\n"
   ]
  },
  {
   "cell_type": "markdown",
   "metadata": {},
   "source": [
    "Before running the script:\n",
    "\n",
    "Replace the placeholder 'Student_Number' with the actual column name from your dataset.\n",
    "\n",
    "Replace the index -1 for y with the actual index of your target variable if it's not the last column.\n",
    "\n",
    "If your data contains categorical variables, you should encode them appropriately before running feature selection. Uncomment the pd.get_dummies(X) line if needed.\n",
    "\n",
    "Choose an appropriate k value for the number of features you want to select.\n",
    "\n",
    "Please note that for the f_classif score function, the input features should be non-negative. If some of your features are negative, you will need to use another score function or transform your data accordingly."
   ]
  },
  {
   "cell_type": "markdown",
   "metadata": {},
   "source": []
  }
 ],
 "metadata": {
  "kernelspec": {
   "display_name": "venv",
   "language": "python",
   "name": "python3"
  },
  "language_info": {
   "codemirror_mode": {
    "name": "ipython",
    "version": 3
   },
   "file_extension": ".py",
   "mimetype": "text/x-python",
   "name": "python",
   "nbconvert_exporter": "python",
   "pygments_lexer": "ipython3",
   "version": "3.9.9"
  }
 },
 "nbformat": 4,
 "nbformat_minor": 2
}
