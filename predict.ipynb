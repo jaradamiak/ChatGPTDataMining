{
 "cells": [
  {
   "cell_type": "markdown",
   "metadata": {},
   "source": [
    "# Choose an appropriate machine learning algorithm"
   ]
  },
  {
   "cell_type": "markdown",
   "metadata": {},
   "source": [
    "Prompt: Write code to predict retention of the students. Use input file called predict.csv and machine learning  algorithm Logisitic Regression with default parameters. Train system on train.csv, that has categorical variables."
   ]
  },
  {
   "cell_type": "markdown",
   "metadata": {},
   "source": [
    "\n",
    "To predict student retention using Logistic Regression with default parameters, we will first train the model on a dataset called train.csv, which contains categorical variables. Then, we'll use this trained model to make predictions on the data from predict.csv.\n",
    "\n",
    "In this example, I'll demonstrate how to handle categorical variables using one-hot encoding before training the model. This encoding process is essential since Logistic Regression in scikit-learn does not natively handle categorical variables."
   ]
  },
  {
   "cell_type": "code",
   "execution_count": 8,
   "metadata": {},
   "outputs": [
    {
     "name": "stdout",
     "output_type": "stream",
     "text": [
      "  Matric_Aggregate_Group FTEN Matric_Status_Code   Age_Group     Race Gender   \n",
      "0              1201_1300    F               DEGR  24_25       African      F  \\\n",
      "1              0000_0000    T               DIPL  29_34       African      M   \n",
      "2              1001_1050    F               DIPL  18_19       African      M   \n",
      "3              0000_0000    T               DEGR  22_23       African      M   \n",
      "4              1101_1150    T               DEGR  26_28        Indian      F   \n",
      "\n",
      "    Home_Language Employment Magisterial_District         Region  \n",
      "0  NORTHERN SOTHO    Student               GIYANI  North Eastern  \n",
      "1        ISIXHOSA   Employed         ALIWAL NORTH   Eastern Cape  \n",
      "2         ISIZULU   Employed             PINETOWN  KwaZulu-Natal  \n",
      "3       AFRIKAANS    Student         JOHANNESBURG        Gauteng  \n",
      "4        SETSWANA   Employed             PHOKWANI        Gauteng  \n",
      "   Predicted_Retention\n",
      "0                    1\n",
      "1                    0\n",
      "2                    0\n",
      "3                    1\n",
      "4                    1\n",
      "5                    0\n",
      "6                    1\n",
      "7                    1\n",
      "8                    0\n",
      "9                    1\n"
     ]
    },
    {
     "name": "stderr",
     "output_type": "stream",
     "text": [
      "c:\\Users\\eadamijp\\AppData\\Local\\Programs\\Python\\Python39\\lib\\site-packages\\sklearn\\linear_model\\_logistic.py:458: ConvergenceWarning: lbfgs failed to converge (status=1):\n",
      "STOP: TOTAL NO. of ITERATIONS REACHED LIMIT.\n",
      "\n",
      "Increase the number of iterations (max_iter) or scale the data as shown in:\n",
      "    https://scikit-learn.org/stable/modules/preprocessing.html\n",
      "Please also refer to the documentation for alternative solver options:\n",
      "    https://scikit-learn.org/stable/modules/linear_model.html#logistic-regression\n",
      "  n_iter_i = _check_optimize_result(\n"
     ]
    }
   ],
   "source": [
    "import pandas as pd\n",
    "from sklearn.model_selection import train_test_split\n",
    "from sklearn.linear_model import LogisticRegression\n",
    "from sklearn.preprocessing import OneHotEncoder\n",
    "from sklearn.pipeline import Pipeline\n",
    "\n",
    "# Load the training dataset\n",
    "df_train = pd.read_csv('train.csv', sep=\";\")\n",
    "\n",
    "# Separate the features and the target variable\n",
    "# Replace 'target' with your actual target column name\n",
    "X_train = df_train.drop('Class', axis=1)\n",
    "y_train = df_train['Class']\n",
    "\n",
    "# Preprocessing and model pipeline\n",
    "pipeline = Pipeline([\n",
    "    ('encoder', OneHotEncoder(handle_unknown='ignore')),  # One-hot encode categorical variables\n",
    "    ('logreg', LogisticRegression())  # Logistic Regression model\n",
    "])\n",
    "\n",
    "# Train the model\n",
    "pipeline.fit(X_train, y_train)\n",
    "\n",
    "# Load the prediction dataset\n",
    "df_predict = pd.read_csv('predict.csv', sep=\";\")\n",
    "print(df_predict.head())\n",
    "# Predict retention using the model\n",
    "predictions = pipeline.predict(df_predict)\n",
    "\n",
    "# Output the predictions\n",
    "# Assuming df_predict has a column 'Student_ID' to identify students\n",
    "df_predict['Predicted_Retention'] = predictions\n",
    "print(df_predict[['Student_ID','Predicted_Retention']])\n",
    "\n",
    "# Save the predictions to a CSV file if needed\n",
    "df_predict.to_csv('retention_predictions.csv', index=False)\n"
   ]
  },
  {
   "cell_type": "markdown",
   "metadata": {},
   "source": [
    "Replace 'target' with the actual name of your target variable in the train.csv dataset.\n",
    "\n",
    "The script assumes that your predict.csv has the same structure (same features) as train.csv. If not, adjust the script to match your data.\n",
    "\n",
    "If predict.csv includes a target column, make sure to drop it before making predictions.\n",
    "\n",
    "The script uses a Pipeline from scikit-learn to streamline the process of encoding and model training.\n",
    "\n",
    "The OneHotEncoder is set to ignore unknown categories that might appear in predict.csv but not in train.csv.\n",
    "\n",
    "Adjust 'Student_ID' to the actual identifier used in your predict.csv dataset."
   ]
  },
  {
   "cell_type": "code",
   "execution_count": null,
   "metadata": {},
   "outputs": [],
   "source": []
  }
 ],
 "metadata": {
  "kernelspec": {
   "display_name": "Python 3",
   "language": "python",
   "name": "python3"
  },
  "language_info": {
   "codemirror_mode": {
    "name": "ipython",
    "version": 3
   },
   "file_extension": ".py",
   "mimetype": "text/x-python",
   "name": "python",
   "nbconvert_exporter": "python",
   "pygments_lexer": "ipython3",
   "version": "3.9.9"
  },
  "orig_nbformat": 4
 },
 "nbformat": 4,
 "nbformat_minor": 2
}
